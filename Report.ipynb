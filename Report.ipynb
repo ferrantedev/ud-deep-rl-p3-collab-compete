{
 "cells": [
  {
   "cell_type": "markdown",
   "id": "936d07e8",
   "metadata": {},
   "source": [
    "# Project Report"
   ]
  },
  {
   "cell_type": "markdown",
   "id": "e1374df5",
   "metadata": {},
   "source": [
    "### Goal"
   ]
  },
  {
   "cell_type": "markdown",
   "id": "f14f4be5",
   "metadata": {},
   "source": [
    "The task of the project is to train two agents, using Deep Reinforcement Learning, the agents control rackets to bounce a ball over a net. If an agent hits the ball over the net, it receives a reward of +0.1. If an agent lets a ball hit the ground or hits the ball out of bounds, it receives a reward of -0.01. Thus, the goal of each agent is to keep the ball in play.\n",
    "\n",
    "The task is episodic, and in order to solve the environment, your agents must get an average score of +0.5 (over 100 consecutive episodes, after taking the maximum over both agents). Specifically,\n",
    "\n",
    "After each episode, we add up the rewards that each agent received (without discounting), to get a score for each agent. This yields 2 (potentially different) scores. We then take the maximum of these 2 scores.\n",
    "This yields a single score for each episode.\n",
    "The environment is considered solved, when the average (over 100 episodes) of those scores is at least +0.5."
   ]
  },
  {
   "cell_type": "markdown",
   "id": "1acb8057",
   "metadata": {},
   "source": [
    "### Implementation details"
   ]
  },
  {
   "cell_type": "markdown",
   "id": "14c1ef79",
   "metadata": {},
   "source": [
    "The off-policy approach used to solve this problem is Multiple Agent Deep Deterministic Policy Gradient or MADDPG; which internally makes use of at least two separate Deep Neural Networks, the Actor and the Critic networks.\n",
    "\n",
    "The implementation is based on N Actor and only 1 Critic, where each Actor controls a racket and is independent of the other Agents. The Critic is shared between the N Actor, and acts as a global critic, this is a major difference with a mono Actor DDPG.\n",
    "\n",
    "Because the action space is continuous, and we assume the Q-function is differentiable with respect to action, we can perform gradient ascent to update the policy network.\n",
    "\n",
    "\n",
    "The core algorithm is composed of:\n",
    "\n",
    "- Randomly sample a batch of states and full states transitions from our replay buffer.\n",
    "\n",
    "- Update the Q function (Critic network) by one step using gradient descent.\n",
    "\n",
    "- For each Actor network, update the policy function (Actor network) by one step using gradient ascent, with the observation from our global Critic network\n",
    "\n"
   ]
  },
  {
   "cell_type": "markdown",
   "id": "975048fc",
   "metadata": {},
   "source": [
    "### Neural network architecture\n"
   ]
  },
  {
   "cell_type": "markdown",
   "id": "5d48cb91",
   "metadata": {},
   "source": [
    "#### Actor network\n",
    "\n",
    "Layers:\n",
    "\n",
    "        Input layer: 33 neurons\n",
    "        Hidden layer 1: 256 neurons\n",
    "        Activation layer: ReLU\n",
    "        Batch Normalization layer\n",
    "        Hidden layer 2: 128 neurons\n",
    "        Activation layer: ReLU\n",
    "        Output layer: 2 neurons\n",
    "        Activation layer: TanH\n",
    "        \n",
    "#### Critic network\n",
    "\n",
    "Layers:\n",
    "\n",
    "        Input layer: 66 neurons -- Full state size, composed of the state observation of all actors, hence 33 * 2\n",
    "        Hidden layer 1: 256 neurons\n",
    "        Activation layer: ReLU\n",
    "        Batch Normalization layer\n",
    "        Hidden layer 2: 130 neurons\n",
    "        Activation layer: ReLU\n",
    "        Output layer: 1 neurons\n",
    "        Activation layer: TanH\n"
   ]
  },
  {
   "cell_type": "markdown",
   "id": "5c9a15a8",
   "metadata": {},
   "source": [
    "### Training parameters\n",
    "\n",
    "Number of episodes: 2000\n",
    "\n",
    "Replay buffer size: 100,000 \n",
    "\n",
    "Batch size: 256\n",
    "\n",
    "Gamma: 0.99\n",
    "\n",
    "Tau:  0.0003 (Softening factor, used to update the target network weights)\n",
    "\n",
    "Actor learning rate: 0,0003 \n",
    "\n",
    "Critic learning rate: 0,0003 \n",
    "\n",
    "Weight decay: 0"
   ]
  },
  {
   "cell_type": "markdown",
   "id": "0f58eac9",
   "metadata": {},
   "source": [
    "### Training result\n",
    "\n",
    "The agent was able to reach the target average score of +0.5 at 1600 episodes"
   ]
  },
  {
   "attachments": {
    "graph.PNG": {
     "image/png": "[encoded data removed]"
    }
   },
   "cell_type": "markdown",
   "id": "7826f0c8",
   "metadata": {},
   "source": [
    "![graph.PNG](attachment:graph.PNG)"
   ]
  },
  {
   "cell_type": "markdown",
   "id": "80e26fda",
   "metadata": {},
   "source": [
    "### Thoughts for improvement:\n",
    "\n",
    "At the moment the algorithm samples experiences randomly from the replay buffer, it would be a good idea to implement Pioritized Experience Replay.\n",
    "\n",
    "Training takes a long time, due to the fact that the current implementation is able to train on one instance of the running environment, this creates a bottleneck where we are constrained on this single instance. It would be a great idea to implement Asynchronous Advantage Actor-Critic in order to parallize training.\n",
    "\n",
    "Implement the following algorithms and compare the results\n",
    "\n",
    "- A3C Asynchronous Advantage Actor-Critic\n",
    "- ACER Actor Critic with Experience Replay\n",
    "- GAE Generalized Advantage Estimation\n",
    "- A2C Advantage Actor-Critic\n",
    "- PPO - Proximal Policy Optimization"
   ]
  }
 ],
 "metadata": {
  "kernelspec": {
   "display_name": "Python 3",
   "language": "python",
   "name": "python3"
  },
  "language_info": {
   "codemirror_mode": {
    "name": "ipython",
    "version": 3
   },
   "file_extension": ".py",
   "mimetype": "text/x-python",
   "name": "python",
   "nbconvert_exporter": "python",
   "pygments_lexer": "ipython3",
   "version": "3.6.13"
  }
 },
 "nbformat": 4,
 "nbformat_minor": 5
}
